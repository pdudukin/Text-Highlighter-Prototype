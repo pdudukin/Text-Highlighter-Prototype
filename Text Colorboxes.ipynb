{
 "cells": [
  {
   "cell_type": "code",
   "execution_count": 3,
   "metadata": {
    "collapsed": true
   },
   "outputs": [],
   "source": [
    "from IPython.core.display import HTML"
   ]
  },
  {
   "cell_type": "code",
   "execution_count": 4,
   "metadata": {
    "collapsed": true
   },
   "outputs": [],
   "source": [
    "words_colors = {\n",
    "    'plain' : None,\n",
    "    'red' : ['#FF0000','#FFFFFF'],\n",
    "    'green' : ['#008800','#FFFFFF'],\n",
    "    'blue' : ['#0000FF','#FFFFFF'],\n",
    "    'black' : ['#000000','#FFFFFF']\n",
    "}"
   ]
  },
  {
   "cell_type": "code",
   "execution_count": 9,
   "metadata": {
    "collapsed": true
   },
   "outputs": [],
   "source": [
    "def word2html(word,color=None):\n",
    "    s = '<span style=\"border:1px; border-radius:5px; border-style:solid;'\n",
    "    if (color is not None) and (color in words_colors): \n",
    "        s += ' background-color: '+words_colors[color][0]+';'\n",
    "        s += ' border-color: '+words_colors[color][0]+';'\n",
    "        s += ' color: '+words_colors[color][1]+';'\n",
    "    s+= ' padding: 2px; margin: 2px\">'\n",
    "    s += word\n",
    "    s+= '</span>'\n",
    "    return s"
   ]
  },
  {
   "cell_type": "code",
   "execution_count": 10,
   "metadata": {},
   "outputs": [
    {
     "data": {
      "text/html": [
       "Обычный текст и немного <span style=\"border:1px; border-radius:5px; border-style:solid; background-color: #FF0000; border-color: #FF0000; color: #FFFFFF; padding: 2px; margin: 2px\">красного</span>, <span style=\"border:1px; border-radius:5px; border-style:solid; background-color: #008800; border-color: #008800; color: #FFFFFF; padding: 2px; margin: 2px\">зеленого</span> и <span style=\"border:1px; border-radius:5px; border-style:solid; background-color: #0000FF; border-color: #0000FF; color: #FFFFFF; padding: 2px; margin: 2px\">синего</span>. А так же еще немного текста чтобы протестировать переносы <span style=\"border:1px; border-radius:5px; border-style:solid; background-color: #000000; border-color: #000000; color: #FFFFFF; padding: 2px; margin: 2px\">блоков&nbspтекста</span>."
      ],
      "text/plain": [
       "<IPython.core.display.HTML object>"
      ]
     },
     "execution_count": 10,
     "metadata": {},
     "output_type": "execute_result"
    }
   ],
   "source": [
    "HTML('Обычный текст и немного '+word2html('красного','red')+', '+ word2html('зеленого','green')+' и '+word2html('синего','blue')+'. А так же еще немного текста чтобы протестировать переносы '+word2html('блоков&nbspтекста','black')+'.')"
   ]
  },
  {
   "cell_type": "markdown",
   "metadata": {},
   "source": [
    "## Imports"
   ]
  },
  {
   "cell_type": "code",
   "execution_count": 56,
   "metadata": {},
   "outputs": [
    {
     "name": "stderr",
     "output_type": "stream",
     "text": [
      "C:\\Users\\PDudukin\\Anaconda3\\lib\\site-packages\\gensim\\utils.py:865: UserWarning: detected Windows; aliasing chunkize to chunkize_serial\n",
      "  warnings.warn(\"detected Windows; aliasing chunkize to chunkize_serial\")\n",
      "Using TensorFlow backend.\n"
     ]
    }
   ],
   "source": [
    "import re\n",
    "from gensim.corpora import Dictionary\n",
    "from gensim.models import ldamodel\n",
    "import pandas as pd\n",
    "import numpy\n",
    "import random\n",
    "import string\n",
    "from nltk.corpus import stopwords\n",
    "from IPython.core.display import HTML"
   ]
  },
  {
   "cell_type": "markdown",
   "metadata": {},
   "source": [
    "## Data"
   ]
  },
  {
   "cell_type": "code",
   "execution_count": 59,
   "metadata": {
    "collapsed": true
   },
   "outputs": [],
   "source": [
    "texts = list(pd.read_csv('train_task1_latest.csv', encoding='utf-8').paragraph.values)"
   ]
  },
  {
   "cell_type": "markdown",
   "metadata": {},
   "source": [
    "## Coloring words in text"
   ]
  },
  {
   "cell_type": "code",
   "execution_count": 157,
   "metadata": {
    "collapsed": true
   },
   "outputs": [],
   "source": [
    "def ColorWordInText(word_list, text, list_of_colors, param=False):\n",
    "    if param == 'expandonlycolor' and len(list_of_colors) < len(word_list) and len(list_of_colors)==1:\n",
    "        list_of_colors = list_of_colors*len(word_list)\n",
    "        \n",
    "    for word, color in zip(word_list, list_of_colors):\n",
    "        text = re.sub(word, word2html(word,color), text)\n",
    "    return HTML(text)"
   ]
  },
  {
   "cell_type": "code",
   "execution_count": 223,
   "metadata": {},
   "outputs": [
    {
     "data": {
      "text/html": [
       "Непомерно <span style=\"border:1px; border-radius:5px; border-style:solid; background-color: #FF0000; border-color: #FF0000; color: #FFFFFF; padding: 2px; margin: 2px\">дорогой</span> кинотеатр, <span style=\"border:1px; border-radius:5px; border-style:solid; background-color: #008800; border-color: #008800; color: #FFFFFF; padding: 2px; margin: 2px\">никогда</span> больше не <span style=\"border:1px; border-radius:5px; border-style:solid; background-color: #0000FF; border-color: #0000FF; color: #FFFFFF; padding: 2px; margin: 2px\">приду</span> туда."
      ],
      "text/plain": [
       "<IPython.core.display.HTML object>"
      ]
     },
     "execution_count": 223,
     "metadata": {},
     "output_type": "execute_result"
    }
   ],
   "source": [
    "text = 'Непомерно дорогой кинотеатр, никогда больше не приду туда.'\n",
    "word_list = ['дорогой', 'никогда', 'приду']\n",
    "list_of_colors = ['red', 'green', 'blue']\n",
    "\n",
    "ColorWordInText(word_list, text, list_of_colors)"
   ]
  },
  {
   "cell_type": "markdown",
   "metadata": {},
   "source": [
    "## LDA Highlighting: Framework"
   ]
  },
  {
   "cell_type": "code",
   "execution_count": 64,
   "metadata": {
    "collapsed": true
   },
   "outputs": [],
   "source": [
    "def HighlightWordsInText_LDA(list_of_texts, list_of_colors, num_topics=1, top_words=5):\n",
    "    stop_words = stopwords.words('russian')\n",
    "    texts = [[x for x in re.sub(\"[\\W+\\-\\W+]\\W+\",\" \",text).split(' ') if x.lower() not in stop_words ] for text in [list_of_texts]]\n",
    "    dictionary = Dictionary(texts)\n",
    "    corpus = [dictionary.doc2bow(text) for text in texts]\n",
    "    \n",
    "    numpy.random.seed(1)\n",
    "    model = ldamodel.LdaModel(corpus, id2word=dictionary, num_topics=num_topics, passes=50)\n",
    "\n",
    "    word_list = []\n",
    "    colors_list = list_of_colors[:]\n",
    "    \n",
    "    for topic in range(num_topics):\n",
    "        for word_ix in range(top_words):\n",
    "            word_list.append(model.show_topic(topic, topn=top_words)[word_ix][0])\n",
    "\n",
    "        if len(colors_list)<top_words*num_topics:\n",
    "            for c in range(top_words*num_topics-len(colors_list)):\n",
    "                colors_list.append(words_colors['black'][0])\n",
    "    \n",
    "    return ColorWordInText(word_list, list_of_texts, colors_list)"
   ]
  },
  {
   "cell_type": "code",
   "execution_count": 67,
   "metadata": {},
   "outputs": [
    {
     "data": {
      "text/html": [
       "Крылья и <span style=\"border:1px; border-radius:5px; border-style:solid; background-color: #0000FF; border-color: #0000FF; color: #FFFFFF; padding: 2px; margin: 2px\">другие</span> <span style=\"border:1px; border-radius:5px; border-style:solid; padding: 2px; margin: 2px\">части</span> тела могут быть <span style=\"border:1px; border-radius:5px; border-style:solid; background-color: #008800; border-color: #008800; color: #FFFFFF; padding: 2px; margin: 2px\">равномерно</span> побледневшими. Иногда бледнеют не все чешуйки, а <span style=\"border:1px; border-radius:5px; border-style:solid; padding: 2px; margin: 2px\">среди</span> них остаются небольшие группы с нормальной окраской, <span style=\"border:1px; border-radius:5px; border-style:solid; background-color: #008800; border-color: #008800; color: #FFFFFF; padding: 2px; margin: 2px\">равномерно</span> разбросанные по поверхности крыла. Такие экземпляры иногда встречаются <span style=\"border:1px; border-radius:5px; border-style:solid; padding: 2px; margin: 2px\">среди</span> разных видов Satyridae, Epinephete jurtitta и Epinephete tycoon. У других <span style=\"border:1px; border-radius:5px; border-style:solid; background-color: #FF0000; border-color: #FF0000; color: #FFFFFF; padding: 2px; margin: 2px\">особей</span> побелевшие участки могут быть распределены по крылу несимметрично. Встречается также и такая форма альбинизма, когда побелевшими бывают лишь те участки крыла, которые у нормальных <span style=\"border:1px; border-radius:5px; border-style:solid; background-color: #FF0000; border-color: #FF0000; color: #FFFFFF; padding: 2px; margin: 2px\">особей</span> окрашены в один определённый цвет (например, рыжий фон крыльев у некоторых перламутровок), тогда как все <span style=\"border:1px; border-radius:5px; border-style:solid; background-color: #0000FF; border-color: #0000FF; color: #FFFFFF; padding: 2px; margin: 2px\">другие</span> <span style=\"border:1px; border-radius:5px; border-style:solid; padding: 2px; margin: 2px\">части</span> рисунка сохраняют свою обычную окраску."
      ],
      "text/plain": [
       "<IPython.core.display.HTML object>"
      ]
     },
     "execution_count": 67,
     "metadata": {},
     "output_type": "execute_result"
    }
   ],
   "source": [
    "HighlightWordsInText_LDA(texts[random.randint(0,1000)], list_of_colors, 1, 5)"
   ]
  },
  {
   "cell_type": "markdown",
   "metadata": {},
   "source": [
    "## Highlighting words by topic: Framework"
   ]
  },
  {
   "cell_type": "code",
   "execution_count": 86,
   "metadata": {
    "collapsed": true
   },
   "outputs": [],
   "source": [
    "def HighlightWordsInText_ByTopic(list_of_texts, list_of_colors, num_topics=1, top_words=5):\n",
    "    stop_words = stopwords.words('russian')\n",
    "    texts = [[x for x in re.sub(\"[\\W+\\-\\W+]\\W+\",\" \",text).split(' ') if x.lower() not in stop_words ] for text in [list_of_texts]]\n",
    "    dictionary = Dictionary(texts)\n",
    "    corpus = [dictionary.doc2bow(text) for text in texts]\n",
    "\n",
    "    #numpy.random.seed(1)\n",
    "    model = ldamodel.LdaModel(corpus, id2word=dictionary, num_topics=num_topics, passes=50)\n",
    "\n",
    "    word_list = []\n",
    "    colors_list = []\n",
    "    colors_sample = random.sample(list_of_colors,num_topics)\n",
    "    for topic in range(num_topics):\n",
    "        for word_ix in range(top_words):\n",
    "            word_list.append(model.show_topic(topic, topn=top_words)[word_ix][0])\n",
    "        \n",
    "        colors_list.extend([colors_sample[topic]]*top_words)\n",
    "\n",
    "    word_list = list(set(word_list))\n",
    "    colors_list = colors_list[:len(word_list)]\n",
    "\n",
    "    return ColorWordInText(word_list, list_of_texts, colors_list)"
   ]
  },
  {
   "cell_type": "code",
   "execution_count": 98,
   "metadata": {},
   "outputs": [
    {
     "data": {
      "text/html": [
       "На практике концепт <span style=\"border:1px; border-radius:5px; border-style:solid; background-color: #FF0000; border-color: #FF0000; color: #FFFFFF; padding: 2px; margin: 2px\">общественной</span> <span style=\"border:1px; border-radius:5px; border-style:solid; background-color: #FF0000; border-color: #FF0000; color: #FFFFFF; padding: 2px; margin: 2px\">ценности</span> особенно часто используется общественными телерадиокомпаниями. Они находят себя в ситуации, когда <span style=\"border:1px; border-radius:5px; border-style:solid; background-color: #0000FF; border-color: #0000FF; color: #FFFFFF; padding: 2px; margin: 2px\">вынуждены</span> легитимизировать своё финансирование в <span style=\"border:1px; border-radius:5px; border-style:solid; background-color: #0000FF; border-color: #0000FF; color: #FFFFFF; padding: 2px; margin: 2px\">глазах</span> <span style=\"border:1px; border-radius:5px; border-style:solid; background-color: #FF0000; border-color: #FF0000; color: #FFFFFF; padding: 2px; margin: 2px\">общественности</span> и <span style=\"border:1px; border-radius:5px; border-style:solid; background-color: #0000FF; border-color: #0000FF; color: #FFFFFF; padding: 2px; margin: 2px\">показывать</span> <span style=\"border:1px; border-radius:5px; border-style:solid; background-color: #FF0000; border-color: #FF0000; color: #FFFFFF; padding: 2px; margin: 2px\">свой</span> вклад в общественное благосостояние. Британская вещательная корпорация (BBC) является пионером в этой области и оценивает все новые передачи с точки зрения <span style=\"border:1px; border-radius:5px; border-style:solid; background-color: #FF0000; border-color: #FF0000; color: #FFFFFF; padding: 2px; margin: 2px\">общественной</span> <span style=\"border:1px; border-radius:5px; border-style:solid; background-color: #FF0000; border-color: #FF0000; color: #FFFFFF; padding: 2px; margin: 2px\">ценности</span>. В Германии ARD и ZDF и ORF в Австрии применяют <span style=\"border:1px; border-radius:5px; border-style:solid; background-color: #FF0000; border-color: #FF0000; color: #FFFFFF; padding: 2px; margin: 2px\">похожие</span> методы оценки <span style=\"border:1px; border-radius:5px; border-style:solid; background-color: #FF0000; border-color: #FF0000; color: #FFFFFF; padding: 2px; margin: 2px\">общественной</span> <span style=\"border:1px; border-radius:5px; border-style:solid; background-color: #FF0000; border-color: #FF0000; color: #FFFFFF; padding: 2px; margin: 2px\">ценности</span> дл яновых программ."
      ],
      "text/plain": [
       "<IPython.core.display.HTML object>"
      ]
     },
     "execution_count": 98,
     "metadata": {},
     "output_type": "execute_result"
    }
   ],
   "source": [
    "HighlightWordsInText_ByTopic(texts[random.randint(0,1000)], list_of_colors, 2, 5)"
   ]
  },
  {
   "cell_type": "markdown",
   "metadata": {},
   "source": [
    "## Theathres reviews"
   ]
  },
  {
   "cell_type": "code",
   "execution_count": 318,
   "metadata": {
    "collapsed": true
   },
   "outputs": [],
   "source": [
    "import json\n",
    "import codecs\n",
    "import pandas as pd\n",
    "from nltk.corpus import stopwords # repeated\n",
    "from functools import reduce\n",
    "from collections import Counter\n",
    "\n",
    "from keras.preprocessing.text import Tokenizer\n",
    "from keras.preprocessing import sequence\n",
    "from keras.models import Sequential\n",
    "from keras.layers import Dense, Embedding, Dropout, GlobalMaxPooling1D\n",
    "from keras.layers import LSTM\n",
    "from keras import callbacks\n",
    "from keras_tqdm import TQDMNotebookCallback\n",
    "from keras.models import load_model\n",
    "\n",
    "from sklearn.model_selection import train_test_split\n",
    "from sklearn.feature_extraction.text import CountVectorizer\n",
    "from sklearn.feature_extraction.text import TfidfTransformer\n",
    "from sklearn.feature_extraction.text import TfidfVectorizer\n",
    "\n",
    "stop_words = stopwords.words('russian')"
   ]
  },
  {
   "cell_type": "code",
   "execution_count": 319,
   "metadata": {
    "collapsed": true
   },
   "outputs": [],
   "source": [
    "def GetFlatList(list_of_lists):\n",
    "    return reduce(lambda x,y: x+y, list_of_lists)"
   ]
  },
  {
   "cell_type": "code",
   "execution_count": 320,
   "metadata": {},
   "outputs": [
    {
     "name": "stdout",
     "output_type": "stream",
     "text": [
      "Review: \n",
      "Очень хороший кинотеатр. Особенно нравится зал номер 4. Везде чисто. И цены хорошие. Один из немногих минусов - это то, что не всегда попадаются чистые 3D-очки. Их бы надо протирать. \n",
      "\n",
      "Rating: 4\n"
     ]
    }
   ],
   "source": [
    "with codecs.open(\"reviews.json\", encoding = 'utf-8') as json_file:\n",
    "    json_data = json.load(json_file)\n",
    "\n",
    "id = 2\n",
    "print(\"\\x1b[1;30mReview:\\x1b[0m\",json_data[id]['text'])\n",
    "print(\"\\x1b[1;30mRating:\\x1b[0m\",json_data[id]['review_rating'])"
   ]
  },
  {
   "cell_type": "code",
   "execution_count": 321,
   "metadata": {
    "collapsed": true
   },
   "outputs": [],
   "source": [
    "reviews = []\n",
    "ratings = []\n",
    "\n",
    "for id in range(len(json_data)):\n",
    "    try:\n",
    "        reviews.append(json_data[id]['text'])\n",
    "    except KeyError:\n",
    "        reviews.append(np.NaN)\n",
    "    \n",
    "    try:\n",
    "        ratings.append(int(json_data[id]['review_rating']))\n",
    "    except KeyError:\n",
    "        ratings.append(-1)"
   ]
  },
  {
   "cell_type": "code",
   "execution_count": 322,
   "metadata": {},
   "outputs": [
    {
     "data": {
      "text/html": [
       "<div>\n",
       "<style>\n",
       "    .dataframe thead tr:only-child th {\n",
       "        text-align: right;\n",
       "    }\n",
       "\n",
       "    .dataframe thead th {\n",
       "        text-align: left;\n",
       "    }\n",
       "\n",
       "    .dataframe tbody tr th {\n",
       "        vertical-align: top;\n",
       "    }\n",
       "</style>\n",
       "<table border=\"1\" class=\"dataframe\">\n",
       "  <thead>\n",
       "    <tr style=\"text-align: right;\">\n",
       "      <th></th>\n",
       "      <th>raw_rating</th>\n",
       "      <th>raw_review</th>\n",
       "    </tr>\n",
       "  </thead>\n",
       "  <tbody>\n",
       "    <tr>\n",
       "      <th>0</th>\n",
       "      <td>4</td>\n",
       "      <td>\\nСколько стоят билеты на комедию \" Кухня: Пос...</td>\n",
       "    </tr>\n",
       "    <tr>\n",
       "      <th>1</th>\n",
       "      <td>1</td>\n",
       "      <td>\\nПочему все мультфильмы в 3D, с малышами неуд...</td>\n",
       "    </tr>\n",
       "  </tbody>\n",
       "</table>\n",
       "</div>"
      ],
      "text/plain": [
       "   raw_rating                                         raw_review\n",
       "0           4  \\nСколько стоят билеты на комедию \" Кухня: Пос...\n",
       "1           1  \\nПочему все мультфильмы в 3D, с малышами неуд..."
      ]
     },
     "execution_count": 322,
     "metadata": {},
     "output_type": "execute_result"
    }
   ],
   "source": [
    "data = pd.DataFrame({'raw_review':reviews,'raw_rating':ratings})\n",
    "data = data[(data.raw_rating>-1)].dropna()\n",
    "data.head(2)"
   ]
  },
  {
   "cell_type": "code",
   "execution_count": 323,
   "metadata": {
    "collapsed": true
   },
   "outputs": [],
   "source": [
    "test_size = 0.2\n",
    "for id in data.index:\n",
    "    if id<int(data.shape[0]*(1-test_size)):\n",
    "        data.loc[id,'part'] = 'train'\n",
    "    else:\n",
    "        data.loc[id,'part'] = 'test'"
   ]
  },
  {
   "cell_type": "code",
   "execution_count": 324,
   "metadata": {
    "collapsed": true
   },
   "outputs": [],
   "source": [
    "import re\n",
    "for id in data.index:\n",
    "    try:\n",
    "        data.loc[id,'text'] = ' '.join(re.split('\\W+',data.loc[id,'raw_review'].lower())[1:-1])\n",
    "    except AttributeError:\n",
    "        print(id)"
   ]
  },
  {
   "cell_type": "code",
   "execution_count": 325,
   "metadata": {},
   "outputs": [
    {
     "data": {
      "text/html": [
       "<div>\n",
       "<style>\n",
       "    .dataframe thead tr:only-child th {\n",
       "        text-align: right;\n",
       "    }\n",
       "\n",
       "    .dataframe thead th {\n",
       "        text-align: left;\n",
       "    }\n",
       "\n",
       "    .dataframe tbody tr th {\n",
       "        vertical-align: top;\n",
       "    }\n",
       "</style>\n",
       "<table border=\"1\" class=\"dataframe\">\n",
       "  <thead>\n",
       "    <tr style=\"text-align: right;\">\n",
       "      <th></th>\n",
       "      <th>raw_rating</th>\n",
       "      <th>raw_review</th>\n",
       "      <th>part</th>\n",
       "      <th>text</th>\n",
       "      <th>tokens</th>\n",
       "      <th>rating</th>\n",
       "    </tr>\n",
       "  </thead>\n",
       "  <tbody>\n",
       "    <tr>\n",
       "      <th>0</th>\n",
       "      <td>4</td>\n",
       "      <td>\\nСколько стоят билеты на комедию \" Кухня: Пос...</td>\n",
       "      <td>train</td>\n",
       "      <td>сколько стоят билеты на комедию кухня последня...</td>\n",
       "      <td>[сколько, стоят, билеты, комедию, кухня, после...</td>\n",
       "      <td>1</td>\n",
       "    </tr>\n",
       "    <tr>\n",
       "      <th>1</th>\n",
       "      <td>1</td>\n",
       "      <td>\\nПочему все мультфильмы в 3D, с малышами неуд...</td>\n",
       "      <td>train</td>\n",
       "      <td>почему все мультфильмы в 3d с малышами неудобн...</td>\n",
       "      <td>[почему, мультфильмы, 3d, малышами, неудобно, ...</td>\n",
       "      <td>-1</td>\n",
       "    </tr>\n",
       "  </tbody>\n",
       "</table>\n",
       "</div>"
      ],
      "text/plain": [
       "   raw_rating                                         raw_review   part  \\\n",
       "0           4  \\nСколько стоят билеты на комедию \" Кухня: Пос...  train   \n",
       "1           1  \\nПочему все мультфильмы в 3D, с малышами неуд...  train   \n",
       "\n",
       "                                                text  \\\n",
       "0  сколько стоят билеты на комедию кухня последня...   \n",
       "1  почему все мультфильмы в 3d с малышами неудобн...   \n",
       "\n",
       "                                              tokens  rating  \n",
       "0  [сколько, стоят, билеты, комедию, кухня, после...       1  \n",
       "1  [почему, мультфильмы, 3d, малышами, неудобно, ...      -1  "
      ]
     },
     "execution_count": 325,
     "metadata": {},
     "output_type": "execute_result"
    }
   ],
   "source": [
    "data.set_value(0,'tokens',0)\n",
    "data['tokens'] = data['tokens'].astype(object)\n",
    "for id in data.index:  \n",
    "    data.set_value(id,'tokens',[word for word in data.loc[id,'text'].split(' ') if word not in stop_words and word not in ''])\n",
    "\n",
    "data['rating'] = data['raw_rating'].map(lambda x: 1 if int(x)>3 else -1)\n",
    "data.head(2)"
   ]
  },
  {
   "cell_type": "code",
   "execution_count": 326,
   "metadata": {},
   "outputs": [
    {
     "data": {
      "text/plain": [
       "[('просто', 437),\n",
       " ('место', 437),\n",
       " ('кинотеатра', 445),\n",
       " ('зале', 489),\n",
       " ('отличный', 565),\n",
       " ('фильм', 606),\n",
       " ('залы', 621),\n",
       " ('билеты', 668),\n",
       " ('цены', 725),\n",
       " ('удобные', 732)]"
      ]
     },
     "execution_count": 326,
     "metadata": {},
     "output_type": "execute_result"
    }
   ],
   "source": [
    "pos = Counter(GetFlatList([x for x in data[data.rating==1]['tokens'].values]))\n",
    "sorted(pos.items(), key=lambda t: t[1])[-20:-10]"
   ]
  },
  {
   "cell_type": "code",
   "execution_count": 327,
   "metadata": {},
   "outputs": [
    {
     "data": {
      "text/plain": [
       "[('15', 319),\n",
       " ('места', 321),\n",
       " ('т', 322),\n",
       " ('смотреть', 323),\n",
       " ('20', 323),\n",
       " ('деньги', 353),\n",
       " ('экран', 353),\n",
       " ('5', 359),\n",
       " ('билетов', 362),\n",
       " ('очки', 365)]"
      ]
     },
     "execution_count": 327,
     "metadata": {},
     "output_type": "execute_result"
    }
   ],
   "source": [
    "neg = Counter(GetFlatList([x for x in data[data.rating==-1]['tokens'].values]))\n",
    "sorted(neg.items(), key=lambda t: t[1])[-40:-30]"
   ]
  },
  {
   "cell_type": "code",
   "execution_count": 328,
   "metadata": {},
   "outputs": [
    {
     "name": "stdout",
     "output_type": "stream",
     "text": [
      "Wall time: 5.42 s\n",
      "Wall time: 7.21 s\n",
      "Wall time: 26.1 ms\n",
      "Wall time: 50.1 ms\n",
      "Wall time: 10 ms\n",
      "Wall time: 11 ms\n",
      "Wall time: 1min 45s\n",
      "Wall time: 2min 45s\n",
      "Wall time: 1min 12s\n",
      "Wall time: 1min 14s\n"
     ]
    }
   ],
   "source": [
    "%time pos_list = GetFlatList([x for x in data[data.rating==+1]['tokens'].values])\n",
    "%time neg_list = GetFlatList([x for x in data[data.rating==-1]['tokens'].values])\n",
    "                       \n",
    "%time pos_words_dict = dict(Counter(pos_list))\n",
    "%time neg_words_dict = dict(Counter(neg_list))\n",
    "\n",
    "%time pos_to_delete = list({key: pos_words_dict[key] for key in pos_words_dict.keys() if pos_words_dict[key]<3}.keys())          \n",
    "%time neg_to_delete = list({key: neg_words_dict[key] for key in neg_words_dict.keys() if neg_words_dict[key]<3}.keys())          \n",
    "\n",
    "%time clean_pos_list = [x for x in pos_list if x not in pos_to_delete]\n",
    "%time clean_neg_list = [x for x in neg_list if x not in neg_to_delete]\n",
    "\n",
    "%time pos_words = [x for x in list(set(clean_pos_list)) if x not in list(set(clean_neg_list))]\n",
    "%time neg_words = [x for x in list(set(clean_neg_list)) if x not in list(set(clean_pos_list))]"
   ]
  },
  {
   "cell_type": "code",
   "execution_count": 329,
   "metadata": {},
   "outputs": [
    {
     "name": "stdout",
     "output_type": "stream",
     "text": [
      "['чавкают', 'свежо', 'трансляции', 'насыпают', 'чудесное', 'комфортными', 'середину', 'глупо', 'лишнего']\n",
      "['неприветливые', 'небольшую', 'звездные', 'кривые', 'ведёт', 'испорченное', 'среднюю', 'очередных', 'минутной']\n"
     ]
    }
   ],
   "source": [
    "print(pos_words[:9])\n",
    "print(neg_words[:9])"
   ]
  },
  {
   "cell_type": "code",
   "execution_count": 330,
   "metadata": {},
   "outputs": [
    {
     "name": "stdout",
     "output_type": "stream",
     "text": [
      "Максимальная длина текста: 294  слов\n"
     ]
    },
    {
     "data": {
      "text/html": [
       "<div>\n",
       "<style>\n",
       "    .dataframe thead tr:only-child th {\n",
       "        text-align: right;\n",
       "    }\n",
       "\n",
       "    .dataframe thead th {\n",
       "        text-align: left;\n",
       "    }\n",
       "\n",
       "    .dataframe tbody tr th {\n",
       "        vertical-align: top;\n",
       "    }\n",
       "</style>\n",
       "<table border=\"1\" class=\"dataframe\">\n",
       "  <thead>\n",
       "    <tr style=\"text-align: right;\">\n",
       "      <th></th>\n",
       "      <th>raw_rating</th>\n",
       "      <th>raw_review</th>\n",
       "      <th>part</th>\n",
       "      <th>text</th>\n",
       "      <th>tokens</th>\n",
       "      <th>rating</th>\n",
       "      <th>seq_tokens</th>\n",
       "    </tr>\n",
       "  </thead>\n",
       "  <tbody>\n",
       "    <tr>\n",
       "      <th>5419</th>\n",
       "      <td>1</td>\n",
       "      <td>\\nОказались рядом и решили сходить семьей на «...</td>\n",
       "      <td>train</td>\n",
       "      <td>оказались рядом и решили сходить семьей на 007...</td>\n",
       "      <td>[оказались, рядом, решили, сходить, семьей, 00...</td>\n",
       "      <td>-1</td>\n",
       "      <td>[0, 0, 0, 0, 0, 0, 0, 0, 0, 0, 0, 0, 0, 0, 0, ...</td>\n",
       "    </tr>\n",
       "    <tr>\n",
       "      <th>5111</th>\n",
       "      <td>5</td>\n",
       "      <td>\\nрядом с домом,почти за углом; в тихом районч...</td>\n",
       "      <td>train</td>\n",
       "      <td>рядом с домом почти за углом в тихом райончике...</td>\n",
       "      <td>[рядом, домом, углом, тихом, райончике, мало, ...</td>\n",
       "      <td>1</td>\n",
       "      <td>[0, 0, 0, 0, 0, 0, 0, 0, 0, 0, 0, 0, 0, 0, 0, ...</td>\n",
       "    </tr>\n",
       "  </tbody>\n",
       "</table>\n",
       "</div>"
      ],
      "text/plain": [
       "      raw_rating                                         raw_review   part  \\\n",
       "5419           1  \\nОказались рядом и решили сходить семьей на «...  train   \n",
       "5111           5  \\nрядом с домом,почти за углом; в тихом районч...  train   \n",
       "\n",
       "                                                   text  \\\n",
       "5419  оказались рядом и решили сходить семьей на 007...   \n",
       "5111  рядом с домом почти за углом в тихом райончике...   \n",
       "\n",
       "                                                 tokens  rating  \\\n",
       "5419  [оказались, рядом, решили, сходить, семьей, 00...      -1   \n",
       "5111  [рядом, домом, углом, тихом, райончике, мало, ...       1   \n",
       "\n",
       "                                             seq_tokens  \n",
       "5419  [0, 0, 0, 0, 0, 0, 0, 0, 0, 0, 0, 0, 0, 0, 0, ...  \n",
       "5111  [0, 0, 0, 0, 0, 0, 0, 0, 0, 0, 0, 0, 0, 0, 0, ...  "
      ]
     },
     "execution_count": 330,
     "metadata": {},
     "output_type": "execute_result"
    }
   ],
   "source": [
    "tkn = Tokenizer(lower=True)\n",
    "tkn.fit_on_texts(data.text.values)\n",
    "data['seq_tokens'] = tkn.texts_to_sequences(data.text.values)\n",
    "max_text_len = max(data.seq_tokens.apply(len))\n",
    "fix_text_len = 294\n",
    "print('Максимальная длина текста:',max_text_len,' слов')\n",
    "data['seq_tokens'] = list(sequence.pad_sequences(data['seq_tokens'].values, maxlen=fix_text_len))\n",
    "data.sample(2)"
   ]
  },
  {
   "cell_type": "code",
   "execution_count": 331,
   "metadata": {
    "collapsed": true
   },
   "outputs": [],
   "source": [
    "test_x = data[data['part']=='test']['tokens'].apply(list).tolist()\n",
    "train = data[data['part']=='train']"
   ]
  },
  {
   "cell_type": "code",
   "execution_count": 332,
   "metadata": {
    "collapsed": true
   },
   "outputs": [],
   "source": [
    "train_x, valid_x, train_y, valid_y = train_test_split(train['seq_tokens'].apply(list).tolist(),pd.get_dummies(train.rating.values), test_size=0.2)"
   ]
  },
  {
   "cell_type": "code",
   "execution_count": 333,
   "metadata": {},
   "outputs": [
    {
     "data": {
      "text/plain": [
       "42315"
      ]
     },
     "execution_count": 333,
     "metadata": {},
     "output_type": "execute_result"
    }
   ],
   "source": [
    "num_features = max(GetFlatList(train.seq_tokens.apply(list).tolist()))\n",
    "num_features"
   ]
  },
  {
   "cell_type": "code",
   "execution_count": 335,
   "metadata": {},
   "outputs": [
    {
     "name": "stdout",
     "output_type": "stream",
     "text": [
      "Train...\n"
     ]
    },
    {
     "data": {
      "application/vnd.jupyter.widget-view+json": {
       "model_id": "c49936ffe55e49468e29087a6fbee25b"
      }
     },
     "metadata": {},
     "output_type": "display_data"
    },
    {
     "data": {
      "application/vnd.jupyter.widget-view+json": {
       "model_id": "7abd04995a3f4de286dc4d44f4afecd8"
      }
     },
     "metadata": {},
     "output_type": "display_data"
    },
    {
     "name": "stdout",
     "output_type": "stream",
     "text": [
      "512/|/[loss: 0.063, acc: 0.982]   9%|| 512/5839 [00:27<01:38, 54.04it/s]                                               Epoch 00000: val_loss improved from inf to 0.37682, saving model to weights-improvement-00-0.3768.hdf5\n"
     ]
    },
    {
     "data": {
      "application/vnd.jupyter.widget-view+json": {
       "model_id": "dc567c668fa6481b87c44a57fa3be804"
      }
     },
     "metadata": {},
     "output_type": "display_data"
    },
    {
     "name": "stdout",
     "output_type": "stream",
     "text": [
      "Epoch 00001: val_loss did not improve\n"
     ]
    },
    {
     "data": {
      "application/vnd.jupyter.widget-view+json": {
       "model_id": "409ef49822bb498fafbbaa473d90afb1"
      }
     },
     "metadata": {},
     "output_type": "display_data"
    },
    {
     "name": "stdout",
     "output_type": "stream",
     "text": [
      "Epoch 00002: val_loss did not improve\n"
     ]
    },
    {
     "data": {
      "application/vnd.jupyter.widget-view+json": {
       "model_id": "c6ba5fb43a7e439faff22e5ccef1f3aa"
      }
     },
     "metadata": {},
     "output_type": "display_data"
    },
    {
     "name": "stdout",
     "output_type": "stream",
     "text": [
      "Epoch 00003: val_loss did not improve\n"
     ]
    },
    {
     "data": {
      "application/vnd.jupyter.widget-view+json": {
       "model_id": "dca83c78490f417cb7e36dbb7b300e85"
      }
     },
     "metadata": {},
     "output_type": "display_data"
    },
    {
     "name": "stdout",
     "output_type": "stream",
     "text": [
      "Epoch 00004: val_loss did not improve\n"
     ]
    }
   ],
   "source": [
    "batch_size = 32\n",
    "\n",
    "model = Sequential()\n",
    "model.add(Embedding(num_features+1, fix_text_len))\n",
    "model.add(LSTM(100, return_sequences=True)) # new\n",
    "model.add(GlobalMaxPooling1D())\n",
    "model.add(Dense(2, activation='softmax'))\n",
    "\n",
    "lr = 0.01\n",
    "\n",
    "model.compile(loss='binary_crossentropy',\n",
    "              optimizer='adam',\n",
    "              #optimizer=Adagrad(lr=lr),\n",
    "              #optimizer=RMSprop(),\n",
    "              metrics=['accuracy'])\n",
    "\n",
    "filepath=\"weights-improvement-{epoch:02d}-{val_loss:.4f}.hdf5\"\n",
    "checkpoint = callbacks.ModelCheckpoint(filepath, monitor='val_loss', verbose=1, save_best_only=True, mode='min')\n",
    "\n",
    "print('Train...')\n",
    "early_stop = callbacks.EarlyStopping(monitor='val_loss', min_delta=0, patience=5, verbose=0, mode='auto')\n",
    "reduce_lr = callbacks.ReduceLROnPlateau(monitor='val_loss', factor=0.5, patience=2, verbose=1, min_lr=0.001, mode='auto')\n",
    "model.fit(\n",
    "    train_x,\n",
    "    train_y.values,\n",
    "    batch_size=batch_size,\n",
    "    validation_data=(valid_x, valid_y.values),\n",
    "    verbose=0,\n",
    "    epochs=5,\n",
    "    #callbacks=[TQDMNotebookCallback()]\n",
    "    callbacks=[checkpoint, TQDMNotebookCallback(), reduce_lr]\n",
    ")\n",
    "\n",
    "model.save('Conv_Model.h5')"
   ]
  },
  {
   "cell_type": "code",
   "execution_count": 337,
   "metadata": {},
   "outputs": [
    {
     "name": "stdout",
     "output_type": "stream",
     "text": [
      "\n"
     ]
    },
    {
     "name": "stderr",
     "output_type": "stream",
     "text": [
      "C:\\Users\\PDudukin\\Anaconda3\\lib\\site-packages\\ipykernel_launcher.py:3: SettingWithCopyWarning: \n",
      "A value is trying to be set on a copy of a slice from a DataFrame.\n",
      "Try using .loc[row_indexer,col_indexer] = value instead\n",
      "\n",
      "See the caveats in the documentation: http://pandas.pydata.org/pandas-docs/stable/indexing.html#indexing-view-versus-copy\n",
      "  This is separate from the ipykernel package so we can avoid doing imports until\n"
     ]
    },
    {
     "data": {
      "text/html": [
       "<div>\n",
       "<style>\n",
       "    .dataframe thead tr:only-child th {\n",
       "        text-align: right;\n",
       "    }\n",
       "\n",
       "    .dataframe thead th {\n",
       "        text-align: left;\n",
       "    }\n",
       "\n",
       "    .dataframe tbody tr th {\n",
       "        vertical-align: top;\n",
       "    }\n",
       "</style>\n",
       "<table border=\"1\" class=\"dataframe\">\n",
       "  <thead>\n",
       "    <tr style=\"text-align: right;\">\n",
       "      <th></th>\n",
       "      <th>raw_rating</th>\n",
       "      <th>raw_review</th>\n",
       "      <th>part</th>\n",
       "      <th>text</th>\n",
       "      <th>tokens</th>\n",
       "      <th>rating</th>\n",
       "      <th>seq_tokens</th>\n",
       "      <th>preds</th>\n",
       "    </tr>\n",
       "  </thead>\n",
       "  <tbody>\n",
       "    <tr>\n",
       "      <th>7344</th>\n",
       "      <td>5</td>\n",
       "      <td>\\nПо поводу бронирования по интернету- это кон...</td>\n",
       "      <td>test</td>\n",
       "      <td>по поводу бронирования по интернету это конечн...</td>\n",
       "      <td>[поводу, бронирования, интернету, это, недочёт...</td>\n",
       "      <td>1</td>\n",
       "      <td>[0, 0, 0, 0, 0, 0, 0, 0, 0, 0, 0, 0, 0, 0, 0, ...</td>\n",
       "      <td>-1</td>\n",
       "    </tr>\n",
       "    <tr>\n",
       "      <th>7345</th>\n",
       "      <td>3</td>\n",
       "      <td>\\nне знаю как в остальных залах (думаю так же)...</td>\n",
       "      <td>test</td>\n",
       "      <td>не знаю как в остальных залах думаю так же но ...</td>\n",
       "      <td>[знаю, остальных, залах, думаю, зале, номер, 5...</td>\n",
       "      <td>-1</td>\n",
       "      <td>[0, 0, 0, 0, 0, 0, 0, 0, 0, 0, 0, 0, 0, 0, 0, ...</td>\n",
       "      <td>-1</td>\n",
       "    </tr>\n",
       "    <tr>\n",
       "      <th>7346</th>\n",
       "      <td>5</td>\n",
       "      <td>\\nужасный кинотеатр! не понимаю, как в Ростове...</td>\n",
       "      <td>test</td>\n",
       "      <td>ужасный кинотеатр не понимаю как в ростове люд...</td>\n",
       "      <td>[ужасный, кинотеатр, понимаю, ростове, люди, с...</td>\n",
       "      <td>1</td>\n",
       "      <td>[0, 0, 0, 0, 0, 0, 0, 0, 0, 0, 0, 0, 0, 0, 0, ...</td>\n",
       "      <td>-1</td>\n",
       "    </tr>\n",
       "    <tr>\n",
       "      <th>7347</th>\n",
       "      <td>4</td>\n",
       "      <td>\\nХороший кинотеатр!!!!!!!!!!!!!!!!!!!!!!!!!!!...</td>\n",
       "      <td>test</td>\n",
       "      <td>хороший кинотеатр</td>\n",
       "      <td>[хороший, кинотеатр]</td>\n",
       "      <td>1</td>\n",
       "      <td>[0, 0, 0, 0, 0, 0, 0, 0, 0, 0, 0, 0, 0, 0, 0, ...</td>\n",
       "      <td>1</td>\n",
       "    </tr>\n",
       "    <tr>\n",
       "      <th>7348</th>\n",
       "      <td>5</td>\n",
       "      <td>\\nМного разных залов, 1 и 2 вполне большие и у...</td>\n",
       "      <td>test</td>\n",
       "      <td>много разных залов 1 и 2 вполне большие и удоб...</td>\n",
       "      <td>[разных, залов, 1, 2, вполне, большие, удобные...</td>\n",
       "      <td>1</td>\n",
       "      <td>[0, 0, 0, 0, 0, 0, 0, 0, 0, 0, 0, 0, 0, 0, 0, ...</td>\n",
       "      <td>-1</td>\n",
       "    </tr>\n",
       "    <tr>\n",
       "      <th>7349</th>\n",
       "      <td>1</td>\n",
       "      <td>\\nКупил билет через интернет (можно было выбра...</td>\n",
       "      <td>test</td>\n",
       "      <td>купил билет через интернет можно было выбрать ...</td>\n",
       "      <td>[купил, билет, интернет, выбрать, места, схеме...</td>\n",
       "      <td>-1</td>\n",
       "      <td>[0, 0, 0, 0, 0, 0, 0, 0, 0, 0, 0, 0, 0, 0, 0, ...</td>\n",
       "      <td>-1</td>\n",
       "    </tr>\n",
       "    <tr>\n",
       "      <th>7350</th>\n",
       "      <td>5</td>\n",
       "      <td>\\nНаш Российский народ настолько привык жалова...</td>\n",
       "      <td>test</td>\n",
       "      <td>наш российский народ настолько привык жаловать...</td>\n",
       "      <td>[наш, российский, народ, настолько, привык, жа...</td>\n",
       "      <td>1</td>\n",
       "      <td>[0, 0, 0, 0, 0, 0, 0, 0, 0, 0, 0, 0, 0, 0, 0, ...</td>\n",
       "      <td>1</td>\n",
       "    </tr>\n",
       "    <tr>\n",
       "      <th>7351</th>\n",
       "      <td>1</td>\n",
       "      <td>\\nУвидел информацию, что можно забронировать б...</td>\n",
       "      <td>test</td>\n",
       "      <td>увидел информацию что можно забронировать биле...</td>\n",
       "      <td>[увидел, информацию, забронировать, билет, ста...</td>\n",
       "      <td>-1</td>\n",
       "      <td>[0, 0, 0, 0, 0, 0, 0, 0, 0, 0, 0, 0, 0, 0, 0, ...</td>\n",
       "      <td>-1</td>\n",
       "    </tr>\n",
       "    <tr>\n",
       "      <th>7352</th>\n",
       "      <td>1</td>\n",
       "      <td>\\nВ кассе нельзя посмотреть какие билеты покуп...</td>\n",
       "      <td>test</td>\n",
       "      <td>в кассе нельзя посмотреть какие билеты покупае...</td>\n",
       "      <td>[кассе, посмотреть, какие, билеты, покупаешь, ...</td>\n",
       "      <td>-1</td>\n",
       "      <td>[0, 0, 0, 0, 0, 0, 0, 0, 0, 0, 0, 0, 0, 0, 0, ...</td>\n",
       "      <td>-1</td>\n",
       "    </tr>\n",
       "    <tr>\n",
       "      <th>7353</th>\n",
       "      <td>1</td>\n",
       "      <td>\\nОхранники тормазят еще хуже кассиров, билеты...</td>\n",
       "      <td>test</td>\n",
       "      <td>охранники тормазят еще хуже кассиров билеты за...</td>\n",
       "      <td>[охранники, тормазят, хуже, кассиров, билеты, ...</td>\n",
       "      <td>-1</td>\n",
       "      <td>[0, 0, 0, 0, 0, 0, 0, 0, 0, 0, 0, 0, 0, 0, 0, ...</td>\n",
       "      <td>-1</td>\n",
       "    </tr>\n",
       "  </tbody>\n",
       "</table>\n",
       "</div>"
      ],
      "text/plain": [
       "      raw_rating                                         raw_review  part  \\\n",
       "7344           5  \\nПо поводу бронирования по интернету- это кон...  test   \n",
       "7345           3  \\nне знаю как в остальных залах (думаю так же)...  test   \n",
       "7346           5  \\nужасный кинотеатр! не понимаю, как в Ростове...  test   \n",
       "7347           4  \\nХороший кинотеатр!!!!!!!!!!!!!!!!!!!!!!!!!!!...  test   \n",
       "7348           5  \\nМного разных залов, 1 и 2 вполне большие и у...  test   \n",
       "7349           1  \\nКупил билет через интернет (можно было выбра...  test   \n",
       "7350           5  \\nНаш Российский народ настолько привык жалова...  test   \n",
       "7351           1  \\nУвидел информацию, что можно забронировать б...  test   \n",
       "7352           1  \\nВ кассе нельзя посмотреть какие билеты покуп...  test   \n",
       "7353           1  \\nОхранники тормазят еще хуже кассиров, билеты...  test   \n",
       "\n",
       "                                                   text  \\\n",
       "7344  по поводу бронирования по интернету это конечн...   \n",
       "7345  не знаю как в остальных залах думаю так же но ...   \n",
       "7346  ужасный кинотеатр не понимаю как в ростове люд...   \n",
       "7347                                  хороший кинотеатр   \n",
       "7348  много разных залов 1 и 2 вполне большие и удоб...   \n",
       "7349  купил билет через интернет можно было выбрать ...   \n",
       "7350  наш российский народ настолько привык жаловать...   \n",
       "7351  увидел информацию что можно забронировать биле...   \n",
       "7352  в кассе нельзя посмотреть какие билеты покупае...   \n",
       "7353  охранники тормазят еще хуже кассиров билеты за...   \n",
       "\n",
       "                                                 tokens  rating  \\\n",
       "7344  [поводу, бронирования, интернету, это, недочёт...       1   \n",
       "7345  [знаю, остальных, залах, думаю, зале, номер, 5...      -1   \n",
       "7346  [ужасный, кинотеатр, понимаю, ростове, люди, с...       1   \n",
       "7347                               [хороший, кинотеатр]       1   \n",
       "7348  [разных, залов, 1, 2, вполне, большие, удобные...       1   \n",
       "7349  [купил, билет, интернет, выбрать, места, схеме...      -1   \n",
       "7350  [наш, российский, народ, настолько, привык, жа...       1   \n",
       "7351  [увидел, информацию, забронировать, билет, ста...      -1   \n",
       "7352  [кассе, посмотреть, какие, билеты, покупаешь, ...      -1   \n",
       "7353  [охранники, тормазят, хуже, кассиров, билеты, ...      -1   \n",
       "\n",
       "                                             seq_tokens  preds  \n",
       "7344  [0, 0, 0, 0, 0, 0, 0, 0, 0, 0, 0, 0, 0, 0, 0, ...     -1  \n",
       "7345  [0, 0, 0, 0, 0, 0, 0, 0, 0, 0, 0, 0, 0, 0, 0, ...     -1  \n",
       "7346  [0, 0, 0, 0, 0, 0, 0, 0, 0, 0, 0, 0, 0, 0, 0, ...     -1  \n",
       "7347  [0, 0, 0, 0, 0, 0, 0, 0, 0, 0, 0, 0, 0, 0, 0, ...      1  \n",
       "7348  [0, 0, 0, 0, 0, 0, 0, 0, 0, 0, 0, 0, 0, 0, 0, ...     -1  \n",
       "7349  [0, 0, 0, 0, 0, 0, 0, 0, 0, 0, 0, 0, 0, 0, 0, ...     -1  \n",
       "7350  [0, 0, 0, 0, 0, 0, 0, 0, 0, 0, 0, 0, 0, 0, 0, ...      1  \n",
       "7351  [0, 0, 0, 0, 0, 0, 0, 0, 0, 0, 0, 0, 0, 0, 0, ...     -1  \n",
       "7352  [0, 0, 0, 0, 0, 0, 0, 0, 0, 0, 0, 0, 0, 0, 0, ...     -1  \n",
       "7353  [0, 0, 0, 0, 0, 0, 0, 0, 0, 0, 0, 0, 0, 0, 0, ...     -1  "
      ]
     },
     "execution_count": 337,
     "metadata": {},
     "output_type": "execute_result"
    }
   ],
   "source": [
    "test = data[data['part']=='test']#\n",
    "pred = model.predict_proba(test['seq_tokens'].apply(list).tolist(),verbose=False)\n",
    "test['preds'] = list(map(lambda x: 1 if x>=0.5 else -1, pred[:,1]))\n",
    "test.head(10)"
   ]
  },
  {
   "cell_type": "code",
   "execution_count": 338,
   "metadata": {
    "collapsed": true
   },
   "outputs": [],
   "source": [
    "score, acc = model.evaluate(valid_x, valid_y.values,batch_size=batch_size, verbose = 0)"
   ]
  },
  {
   "cell_type": "code",
   "execution_count": 339,
   "metadata": {},
   "outputs": [
    {
     "name": "stdout",
     "output_type": "stream",
     "text": [
      "Test score: 0.958491744081\n",
      "Test accuracy: 0.811643835453\n"
     ]
    }
   ],
   "source": [
    "print('Test score:', score)\n",
    "print('Test accuracy:', acc)"
   ]
  },
  {
   "cell_type": "code",
   "execution_count": 342,
   "metadata": {
    "collapsed": true
   },
   "outputs": [],
   "source": [
    "model = load_model('TH_Model.h5')\n",
    "model.load_weights(\"weights-improvement-01-0.3723.hdf5\")\n",
    "model.compile(loss='binary_crossentropy', optimizer='adam', metrics=['accuracy'])"
   ]
  },
  {
   "cell_type": "code",
   "execution_count": 343,
   "metadata": {
    "collapsed": true
   },
   "outputs": [],
   "source": [
    "def PredictAndColor(review):\n",
    "    clean_review = ' '.join(re.split('\\W+',review.lower()))\n",
    "    #print(clean_review)\n",
    "    tokens = [word for word in clean_review.split(' ') if word not in stop_words and word not in '']\n",
    "    #print(tokens)\n",
    "    seq_tokens = tkn.texts_to_sequences([clean_review])\n",
    "    #print(seq_tokens)\n",
    "    max_text_len = max(list(map(lambda x: len(x), seq_tokens)))\n",
    "    seq_tokens = sequence.pad_sequences([seq_tokens[0]], maxlen=max_text_len)\n",
    "    #print(seq_tokens)\n",
    "    pred = model.predict(seq_tokens,verbose=False)\n",
    "    if list(map(lambda x: 1 if x>=0.5 else -1, pred[:,1]))[0] == 1:\n",
    "        word_list = [x for x in tokens if x in pos_list]\n",
    "        return ColorWordInText(word_list, review, ['green'], 'expandonlycolor')\n",
    "    else:\n",
    "        word_list = [x for x in tokens if x in neg_list]\n",
    "        return ColorWordInText(word_list, review, ['red'], 'expandonlycolor')"
   ]
  },
  {
   "cell_type": "code",
   "execution_count": 344,
   "metadata": {},
   "outputs": [
    {
     "name": "stdout",
     "output_type": "stream",
     "text": [
      "ID: 540 \n",
      "Original Review:  \n",
      "Плохая система вентиляции, можно сказать никакая. Всегда очень душно, воздуха нет, после фильма выходишь с больной головой. \n",
      "\n"
     ]
    },
    {
     "data": {
      "text/html": [
       "\n",
       "Плохая <span style=\"border:1px; border-radius:5px; border-style:solid; background-color: #FF0000; border-color: #FF0000; color: #FFFFFF; padding: 2px; margin: 2px\">система</span> <span style=\"border:1px; border-radius:5px; border-style:solid; background-color: #FF0000; border-color: #FF0000; color: #FFFFFF; padding: 2px; margin: 2px\">вентиляции</span>, можно <span style=\"border:1px; border-radius:5px; border-style:solid; background-color: #FF0000; border-color: #FF0000; color: #FFFFFF; padding: 2px; margin: 2px\">сказать</span> <span style=\"border:1px; border-radius:5px; border-style:solid; background-color: #FF0000; border-color: #FF0000; color: #FFFFFF; padding: 2px; margin: 2px\">никакая</span>. Всегда <span style=\"border:1px; border-radius:5px; border-style:solid; background-color: #FF0000; border-color: #FF0000; color: #FFFFFF; padding: 2px; margin: 2px\">очень</span> <span style=\"border:1px; border-radius:5px; border-style:solid; background-color: #FF0000; border-color: #FF0000; color: #FFFFFF; padding: 2px; margin: 2px\">душно</span>, <span style=\"border:1px; border-radius:5px; border-style:solid; background-color: #FF0000; border-color: #FF0000; color: #FFFFFF; padding: 2px; margin: 2px\">воздуха</span> нет, после <span style=\"border:1px; border-radius:5px; border-style:solid; background-color: #FF0000; border-color: #FF0000; color: #FFFFFF; padding: 2px; margin: 2px\">фильма</span> <span style=\"border:1px; border-radius:5px; border-style:solid; background-color: #FF0000; border-color: #FF0000; color: #FFFFFF; padding: 2px; margin: 2px\">выходишь</span> с <span style=\"border:1px; border-radius:5px; border-style:solid; background-color: #FF0000; border-color: #FF0000; color: #FFFFFF; padding: 2px; margin: 2px\">больной</span> <span style=\"border:1px; border-radius:5px; border-style:solid; background-color: #FF0000; border-color: #FF0000; color: #FFFFFF; padding: 2px; margin: 2px\">головой</span>. \n"
      ],
      "text/plain": [
       "<IPython.core.display.HTML object>"
      ]
     },
     "execution_count": 344,
     "metadata": {},
     "output_type": "execute_result"
    }
   ],
   "source": [
    "test_review_1 = 'непомерно дорогой кинотеатр, никогда больше не приду туда'\n",
    "test_review_2 = 'Хороший кинотеатр с комфортными креслами'\n",
    "error_review = 'В зале было холодно и довольно жесткие кресла'\n",
    "\n",
    "review_id = random.randint(0,1000) \n",
    "print('ID:', review_id, '\\nOriginal Review: ', data.raw_review[review_id])\n",
    "PredictAndColor(data.raw_review[review_id])"
   ]
  }
 ],
 "metadata": {
  "kernelspec": {
   "display_name": "Python 3",
   "language": "python",
   "name": "python3"
  },
  "language_info": {
   "codemirror_mode": {
    "name": "ipython",
    "version": 3
   },
   "file_extension": ".py",
   "mimetype": "text/x-python",
   "name": "python",
   "nbconvert_exporter": "python",
   "pygments_lexer": "ipython3",
   "version": "3.5.2"
  }
 },
 "nbformat": 4,
 "nbformat_minor": 2
}
